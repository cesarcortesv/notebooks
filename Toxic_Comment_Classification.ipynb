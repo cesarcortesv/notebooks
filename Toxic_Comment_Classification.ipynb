{
  "nbformat": 4,
  "nbformat_minor": 0,
  "metadata": {
    "colab": {
      "name": "Toxic Comment Classification Challenge",
      "provenance": [],
      "collapsed_sections": [],
      "machine_shape": "hm"
    },
    "kernelspec": {
      "name": "python3",
      "display_name": "Python 3"
    },
    "accelerator": "GPU"
  },
  "cells": [
    {
      "cell_type": "markdown",
      "metadata": {
        "id": "SXgAs6uoQ_Zv",
        "colab_type": "text"
      },
      "source": [
        "# Toxic Comment Classification Challenge - Transfer Learning\n",
        "\n",
        "\n",
        "\n",
        "Short Link for starter notebook: **tiny.cc/mlcc-toxic-starter-colab**\n",
        "\n",
        "Kaggle challenge: https://www.kaggle.com/c/jigsaw-toxic-comment-classification-challenge\n"
      ]
    },
    {
      "cell_type": "markdown",
      "metadata": {
        "id": "qk9gV1cTdOST",
        "colab_type": "toc"
      },
      "source": [
        ">[Toxic Comment Classification Challenge - Transfer Learning](#scrollTo=SXgAs6uoQ_Zv)\n",
        "\n",
        ">>[Import libraries and the dataset](#scrollTo=pdQHcSnWdM4b)\n",
        "\n",
        ">>[Extract features and labels from data input](#scrollTo=rkGUNgjocwKi)\n",
        "\n",
        ">>[Clean Text Data](#scrollTo=FzKOcML9EP2M)\n",
        "\n",
        ">>[Train/Validation Split](#scrollTo=qaUp1VaFek9e)\n",
        "\n",
        ">>[Build the Model](#scrollTo=T-g85ykdp9fZ)\n",
        "\n",
        ">>[Explore model/training variations](#scrollTo=xR39EpLBE3Jx)\n",
        "\n",
        ">>>[Base Model](#scrollTo=iJARBviJGgBr)\n",
        "\n",
        ">>>[Add Weight Regularization (L2)](#scrollTo=42Vmn8bxHarV)\n",
        "\n",
        ">>>[Add Dropout](#scrollTo=mk0HY6GuIVqm)\n",
        "\n",
        ">>[Plot the training and validation loss](#scrollTo=m1dcJG-zJA-L)\n",
        "\n",
        ">[Test Set evaluation](#scrollTo=jTgZIPJEDAjf)\n",
        "\n",
        ">>[References](#scrollTo=7C1075_ce57W)\n",
        "\n"
      ]
    },
    {
      "cell_type": "markdown",
      "metadata": {
        "id": "pdQHcSnWdM4b",
        "colab_type": "text"
      },
      "source": [
        "## Import libraries and the dataset"
      ]
    },
    {
      "cell_type": "code",
      "metadata": {
        "id": "34mklX9hP8TP",
        "colab_type": "code",
        "outputId": "33236fa2-156a-42ee-c004-33ac75b8b153",
        "colab": {
          "base_uri": "https://localhost:8080/",
          "height": 101
        }
      },
      "source": [
        "from __future__ import absolute_import, division, print_function, unicode_literals\n",
        "\n",
        "import numpy as np\n",
        "\n",
        "try:\n",
        "  # %tensorflow_version only exists in Colab.\n",
        "  %tensorflow_version 2.x\n",
        "except Exception:\n",
        "  pass\n",
        "import tensorflow as tf\n",
        "\n",
        "import tensorflow_hub as hub\n",
        "import tensorflow_datasets as tfds\n",
        "import matplotlib.pyplot as plt\n",
        "\n",
        "import pandas as pd\n",
        "\n",
        "print(\"Version: \", tf.__version__)\n",
        "print(\"Eager mode: \", tf.executing_eagerly())\n",
        "print(\"Hub version: \", hub.__version__)\n",
        "print(\"GPU is\", \"available\" if tf.config.experimental.list_physical_devices(\"GPU\") else \"NOT AVAILABLE\")"
      ],
      "execution_count": 0,
      "outputs": [
        {
          "output_type": "stream",
          "text": [
            "TensorFlow 2.x selected.\n",
            "Version:  2.0.0\n",
            "Eager mode:  True\n",
            "Hub version:  0.6.0\n",
            "GPU is available\n"
          ],
          "name": "stdout"
        }
      ]
    },
    {
      "cell_type": "code",
      "metadata": {
        "id": "7SQ1l8HxbVz_",
        "colab_type": "code",
        "outputId": "ad3358f4-d58b-40ab-c0c8-985338a3ef71",
        "colab": {
          "base_uri": "https://localhost:8080/",
          "height": 373
        }
      },
      "source": [
        "# Original data belongs to https://www.kaggle.com/c/jigsaw-toxic-comment-classification-challenge/data\n",
        "! wget https://www.dropbox.com/s/ggl9krhh6dcwhhz/train.csv"
      ],
      "execution_count": 0,
      "outputs": [
        {
          "output_type": "stream",
          "text": [
            "--2019-10-22 02:37:03--  https://www.dropbox.com/s/ggl9krhh6dcwhhz/train.csv\n",
            "Resolving www.dropbox.com (www.dropbox.com)... 162.125.9.1, 2620:100:601f:1::a27d:901\n",
            "Connecting to www.dropbox.com (www.dropbox.com)|162.125.9.1|:443... connected.\n",
            "HTTP request sent, awaiting response... 301 Moved Permanently\n",
            "Location: /s/raw/ggl9krhh6dcwhhz/train.csv [following]\n",
            "--2019-10-22 02:37:04--  https://www.dropbox.com/s/raw/ggl9krhh6dcwhhz/train.csv\n",
            "Reusing existing connection to www.dropbox.com:443.\n",
            "HTTP request sent, awaiting response... 302 Found\n",
            "Location: https://uc71802054f6fe32550ded7da738.dl.dropboxusercontent.com/cd/0/inline/Aq7bhcQanABHa7lvbD1zZ52d14nDiLJ2gXZJfn6NeP7Ck4b3tWUsS2CTP6PVqGLsK6loPjUH7xMGrWUMRDIyFblrMCM3Z9g05uMx_KwpUYGxcA/file# [following]\n",
            "--2019-10-22 02:37:04--  https://uc71802054f6fe32550ded7da738.dl.dropboxusercontent.com/cd/0/inline/Aq7bhcQanABHa7lvbD1zZ52d14nDiLJ2gXZJfn6NeP7Ck4b3tWUsS2CTP6PVqGLsK6loPjUH7xMGrWUMRDIyFblrMCM3Z9g05uMx_KwpUYGxcA/file\n",
            "Resolving uc71802054f6fe32550ded7da738.dl.dropboxusercontent.com (uc71802054f6fe32550ded7da738.dl.dropboxusercontent.com)... 162.125.9.6, 2620:100:601f:6::a27d:906\n",
            "Connecting to uc71802054f6fe32550ded7da738.dl.dropboxusercontent.com (uc71802054f6fe32550ded7da738.dl.dropboxusercontent.com)|162.125.9.6|:443... connected.\n",
            "HTTP request sent, awaiting response... 200 OK\n",
            "Length: 68802655 (66M) [text/plain]\n",
            "Saving to: ‘train.csv’\n",
            "\n",
            "train.csv           100%[===================>]  65.62M  56.6MB/s    in 1.2s    \n",
            "\n",
            "2019-10-22 02:37:06 (56.6 MB/s) - ‘train.csv’ saved [68802655/68802655]\n",
            "\n"
          ],
          "name": "stdout"
        }
      ]
    },
    {
      "cell_type": "code",
      "metadata": {
        "id": "N0LKJvVxaVFN",
        "colab_type": "code",
        "colab": {}
      },
      "source": [
        "data = pd.read_csv(\"train.csv\")\n",
        "  "
      ],
      "execution_count": 0,
      "outputs": []
    },
    {
      "cell_type": "markdown",
      "metadata": {
        "id": "rkGUNgjocwKi",
        "colab_type": "text"
      },
      "source": [
        "## Extract features and labels from data input\n",
        "\n",
        "Split the data into Features, Labels.\n",
        "\n",
        "Input: \"comment_text\"\n",
        "\n",
        "Label: \"toxic\""
      ]
    },
    {
      "cell_type": "code",
      "metadata": {
        "id": "3DnLDkCvc6dD",
        "colab_type": "code",
        "colab": {}
      },
      "source": [
        "# This is a pandas DataFrame.  \n",
        "dataset = data[ [\"comment_text\", \"toxic\"] ]"
      ],
      "execution_count": 0,
      "outputs": []
    },
    {
      "cell_type": "code",
      "metadata": {
        "id": "3xdkGMfb521M",
        "colab_type": "code",
        "outputId": "f5e1e9b3-2fba-4fe0-e8a4-3f7174174f4c",
        "colab": {
          "base_uri": "https://localhost:8080/",
          "height": 34
        }
      },
      "source": [
        "# Shape of dataset array. It contains two Pandas Series:  Features (comment_text) and Labels (toxic)\n",
        "print(dataset.shape)"
      ],
      "execution_count": 0,
      "outputs": [
        {
          "output_type": "stream",
          "text": [
            "(159571, 2)\n"
          ],
          "name": "stdout"
        }
      ]
    },
    {
      "cell_type": "code",
      "metadata": {
        "id": "KWvmR7T5_1vG",
        "colab_type": "code",
        "outputId": "72185838-d66b-4a3f-f6d6-02535d470f69",
        "colab": {
          "base_uri": "https://localhost:8080/",
          "height": 138
        }
      },
      "source": [
        "# Print the first 10 entries in the dataset\n",
        "print(dataset['comment_text'].values[:5])\n",
        "print(dataset['toxic'].values[:5])"
      ],
      "execution_count": 0,
      "outputs": [
        {
          "output_type": "stream",
          "text": [
            "[\"Explanation\\nWhy the edits made under my username Hardcore Metallica Fan were reverted? They weren't vandalisms, just closure on some GAs after I voted at New York Dolls FAC. And please don't remove the template from the talk page since I'm retired now.89.205.38.27\"\n",
            " \"D'aww! He matches this background colour I'm seemingly stuck with. Thanks.  (talk) 21:51, January 11, 2016 (UTC)\"\n",
            " \"Hey man, I'm really not trying to edit war. It's just that this guy is constantly removing relevant information and talking to me through edits instead of my talk page. He seems to care more about the formatting than the actual info.\"\n",
            " '\"\\nMore\\nI can\\'t make any real suggestions on improvement - I wondered if the section statistics should be later on, or a subsection of \"\"types of accidents\"\"  -I think the references may need tidying so that they are all in the exact same format ie date format etc. I can do that later on, if no-one else does first - if you have any preferences for formatting style on references or want to do it yourself please let me know.\\n\\nThere appears to be a backlog on articles for review so I guess there may be a delay until a reviewer turns up. It\\'s listed in the relevant form eg Wikipedia:Good_article_nominations#Transport  \"'\n",
            " \"You, sir, are my hero. Any chance you remember what page that's on?\"]\n",
            "[0 0 0 0 0]\n"
          ],
          "name": "stdout"
        }
      ]
    },
    {
      "cell_type": "markdown",
      "metadata": {
        "id": "FzKOcML9EP2M",
        "colab_type": "text"
      },
      "source": [
        "## Clean Text Data\n",
        "\n",
        "Our input text needs to be cleaned (normilized) before we start training. Our text contains a number of unnecessary characters, white spaces, punctuation, URLs, and unnecessary words that could add noise during training. \n",
        "\n",
        "We'll use the nltk library to help in the pre-processing. Cleaning the text consists of:\n",
        "- removing URLs\n",
        "- replacing punctuation and special characters with whitespace\n",
        "- normilizing text to lowercase\n",
        "- removing unnecesary words (stopwords).  Words which have little or no significance especially when constructing meaningful features from text are known as stopwords or stop words. These are usually words that end up having the maximum frequency if you do a simple term or word frequency in a corpus\n",
        "\n",
        "\n",
        "\n"
      ]
    },
    {
      "cell_type": "code",
      "metadata": {
        "id": "V5YW02k8EkiT",
        "colab_type": "code",
        "outputId": "75c4678b-89a4-46ee-f97d-50fdba15da42",
        "colab": {
          "base_uri": "https://localhost:8080/",
          "height": 67
        }
      },
      "source": [
        "import re\n",
        "import string\n",
        "import nltk\n",
        "nltk.download('stopwords')"
      ],
      "execution_count": 0,
      "outputs": [
        {
          "output_type": "stream",
          "text": [
            "[nltk_data] Downloading package stopwords to /root/nltk_data...\n",
            "[nltk_data]   Unzipping corpora/stopwords.zip.\n"
          ],
          "name": "stdout"
        },
        {
          "output_type": "execute_result",
          "data": {
            "text/plain": [
              "True"
            ]
          },
          "metadata": {
            "tags": []
          },
          "execution_count": 7
        }
      ]
    },
    {
      "cell_type": "code",
      "metadata": {
        "id": "-JYpvvHlEdn3",
        "colab_type": "code",
        "colab": {}
      },
      "source": [
        "#------------------------------->\n",
        "# Create a function to normilize our text and Vectorize the function to apply on entire text corpus\n",
        "#------------------------------->\n",
        "wpt = nltk.WordPunctTokenizer()\n",
        "stop_words = nltk.corpus.stopwords.words('english')\n",
        "\n",
        "def normalize_document(doc):\n",
        "    # remove any URLs\n",
        "    doc = re.sub(r\"http\\S+\", \"\", doc)\n",
        "    # replace punctuation with space and remove special characters\\whitespaces\n",
        "    translator = str.maketrans(string.punctuation, ' '*len(string.punctuation)) #map punctuation to space\n",
        "    doc = doc.translate(translator)\n",
        "    doc = re.sub(r'[^a-zA-Z\\s]', '', doc, re.I|re.A)\n",
        "    doc = doc.lower()\n",
        "    doc = doc.strip()\n",
        "    # tokenize document\n",
        "    tokens = wpt.tokenize(doc)\n",
        "    # filter stopwords out of document\n",
        "    filtered_tokens = [token for token in tokens if token not in stop_words]\n",
        "    # re-create document from filtered tokens\n",
        "    doc = ' '.join(filtered_tokens)\n",
        "    return doc\n",
        "\n",
        "normalize_corpus = np.vectorize(normalize_document)"
      ],
      "execution_count": 0,
      "outputs": []
    },
    {
      "cell_type": "code",
      "metadata": {
        "id": "87HjwK6qEwxx",
        "colab_type": "code",
        "colab": {}
      },
      "source": [
        "#------------------------>\n",
        "# Normalize all our \"comment_text\" (this is a Pandas series)\n",
        "# The function returns a new vector of the normilized entire text corpus\n",
        "#------------------------>\n",
        "pd.options.mode.chained_assignment = None\n",
        "norm_corpus = normalize_corpus(dataset['comment_text'])\n",
        "dataset['comment_text'] = norm_corpus"
      ],
      "execution_count": 0,
      "outputs": []
    },
    {
      "cell_type": "code",
      "metadata": {
        "id": "c8imBOhPBz8B",
        "colab_type": "code",
        "outputId": "29dd69f4-0d9a-4faa-ed2b-4f7f00647fc7",
        "colab": {
          "base_uri": "https://localhost:8080/",
          "height": 121
        }
      },
      "source": [
        "# check normilize dataset\n",
        "print(dataset['comment_text'].values[:5])"
      ],
      "execution_count": 0,
      "outputs": [
        {
          "output_type": "stream",
          "text": [
            "['explanation edits made username hardcore metallica fan reverted vandalisms closure gas voted new york dolls fac please remove template talk page since retired'\n",
            " 'aww matches background colour seemingly stuck thanks talk january utc'\n",
            " 'hey man really trying edit war guy constantly removing relevant information talking edits instead talk page seems care formatting actual info'\n",
            " 'make real suggestions improvement wondered section statistics later subsection types accidents think references may need tidying exact format ie date format etc later one else first preferences formatting style references want please let know appears backlog articles review guess may delay reviewer turns listed relevant form eg wikipedia good article nominations transport'\n",
            " 'sir hero chance remember page']\n"
          ],
          "name": "stdout"
        }
      ]
    },
    {
      "cell_type": "markdown",
      "metadata": {
        "id": "qaUp1VaFek9e",
        "colab_type": "text"
      },
      "source": [
        "## Train/Validation Split\n",
        "\n",
        "Split the set (80/20) Training/Validation"
      ]
    },
    {
      "cell_type": "code",
      "metadata": {
        "id": "aEwymYMaekAN",
        "colab_type": "code",
        "colab": {}
      },
      "source": [
        "# Train / Validation data split\n",
        "dataset = dataset.sample(frac=1)\n",
        "train_dataset = dataset.head(int(0.8 * len(dataset)))\n",
        "validation_dataset = dataset.tail(int(0.2 * len(dataset)))"
      ],
      "execution_count": 0,
      "outputs": []
    },
    {
      "cell_type": "code",
      "metadata": {
        "id": "0ipuisCROlRs",
        "colab_type": "code",
        "colab": {}
      },
      "source": [
        "#-------------------->\n",
        "# Build TensorFlow vectors from Pandas Frame Series\n",
        "#-------------------->\n",
        "t_dataset = tf.data.Dataset.from_tensor_slices((train_dataset['comment_text'], train_dataset['toxic']))\n",
        "v_dataset = tf.data.Dataset.from_tensor_slices((validation_dataset['comment_text'], validation_dataset['toxic']))"
      ],
      "execution_count": 0,
      "outputs": []
    },
    {
      "cell_type": "code",
      "metadata": {
        "id": "VSSmKK54RHAk",
        "colab_type": "code",
        "colab": {}
      },
      "source": [
        "train_examples_batch, train_labels_batch = next(iter(t_dataset.batch(10)))"
      ],
      "execution_count": 0,
      "outputs": []
    },
    {
      "cell_type": "code",
      "metadata": {
        "id": "qA23JWuQvxF_",
        "colab_type": "code",
        "outputId": "f953811c-b486-4a88-ffb6-dceaef5e50b0",
        "colab": {
          "base_uri": "https://localhost:8080/",
          "height": 154
        }
      },
      "source": [
        "print(train_examples_batch[:5])\n",
        "print(train_labels_batch[:5])"
      ],
      "execution_count": 0,
      "outputs": [
        {
          "output_type": "stream",
          "text": [
            "tf.Tensor(\n",
            "[b'seems shot stalin'\n",
            " b'two criteria play first bear final fantasy title form region covers got second first apply feature major appearance characters settings strongly associated final fantasy series kingdom hearts since half major npcs series ehrgeiz since several playable characters one actually cover game final fantasy vii secret evermore might well impression appearances along lines brief cameos integral roles someone wants argue otherwise listening super mario rpg fit either categories never called final fantasy super mario rpg whatever one piece music connect series'\n",
            " b'conservative think need lionize senator kerry think need add section applauding denigrating insulting comments brave soldiers iraq dems liberal enablers msnbccbsnbcnprpbsabcreuters ap wanted election viet nam figuring gave kerry edge made vnam thanks brave honest heroic swift boat vets truth lol additional props dan rather pps dems liberal enablers msnbccbsnbcnprpbsabcreuters ap wanted election iraq figuring gave dems edge thanks senator john kerry dan rather iraq except quite way intended lol sorry kerry apologists liberal editors wikipedia least senator kerry helped conservative maintain control house sentate despicable comments saying joke cut totally fits pattern dems hating denigrating troops saying hey trying insult troops commander chief makes worse john kerry blame swift boat vets time lol'\n",
            " b'information added sourced click link go video date clearly says uploaded th february'\n",
            " b'primaries run states caucuses run parties party decides process use primary run state date primary set state date caucus set party rules primaries set state subject federal law course hence virginia ballot access rule subsequent lawsuit states get run primaries know history parties like state run primary party pay'], shape=(5,), dtype=string)\n",
            "tf.Tensor([0 0 0 0 0], shape=(5,), dtype=int32)\n"
          ],
          "name": "stdout"
        }
      ]
    },
    {
      "cell_type": "markdown",
      "metadata": {
        "id": "T-g85ykdp9fZ",
        "colab_type": "text"
      },
      "source": [
        "## Build the Model\n",
        "\n",
        "In this training example, the input data consists of sentences containing toxic/non-toxic language. The labels to predict are either 0 or 1 (non-toxic / Toxic)\n",
        "\n",
        "One way to represent the text is to convert sentences into embeddings vectors.\n",
        "\n",
        "For this solution, we will use a pre-trained text embedding as the first layer, which will have three advantages:\n",
        "*   we don't have to worry about text preprocessing,\n",
        "*   we can benefit from transfer learning,\n",
        "*   the embedding has a fixed size, so it's simpler to process.\n",
        "\n",
        "We will use a **pre-trained text embedding model** from [TensorFlow Hub](https://www.tensorflow.org/hub) called [google/tf2-preview/gnews-swivel-20dim/1](https://tfhub.dev/google/tf2-preview/gnews-swivel-20dim/1).\n",
        "\n",
        "We can try two other pre-trained models to test:\n",
        "\n",
        "* [google/tf2-preview/gnews-swivel-20dim-with-oov/1](https://tfhub.dev/google/tf2-preview/gnews-swivel-20dim-with-oov/1) - same as [google/tf2-preview/gnews-swivel-20dim/1](https://tfhub.dev/google/tf2-preview/gnews-swivel-20dim/1), but with 2.5% vocabulary converted to Out-of-Vocab (OOV) buckets. This can help if vocabulary of the task and vocabulary of the model don't fully overlap.\n",
        "\n",
        "* [google/tf2-preview/nnlm-en-dim50/1](https://tfhub.dev/google/tf2-preview/nnlm-en-dim50/1) - A much larger model with ~1M vocabulary size and 50 dimensions.  Using this model takes longer to train and, from experimentation with this data set and the hyper-parametes chosen, there is a tendency to overfit.\n"
      ]
    },
    {
      "cell_type": "markdown",
      "metadata": {
        "id": "r62HAC8bAgDq",
        "colab_type": "text"
      },
      "source": [
        "Let's first create a Keras layer that uses a TensorFlow Hub model to embed the sentences, and try it out on a couple of input examples. Note that no matter the length of the input text, the output shape of the embeddings is: `(num_examples, embedding_dimension)`."
      ]
    },
    {
      "cell_type": "code",
      "metadata": {
        "id": "U_6H-2nWRWPl",
        "colab_type": "code",
        "outputId": "357ddde3-cd0f-4a21-88ff-dd76ba144d83",
        "colab": {
          "base_uri": "https://localhost:8080/",
          "height": 185
        }
      },
      "source": [
        "embedding = \"https://tfhub.dev/google/tf2-preview/gnews-swivel-20dim/1\"\n",
        "\n",
        "#----> We can also experiement with these two other models from tensorflow hub <---------\n",
        "#embedding = \"https://tfhub.dev/google/tf2-preview/gnews-swivel-20dim-with-oov/1\"\n",
        "#embedding = \"https://tfhub.dev/google/tf2-preview/nnlm-en-dim50/1\"\n",
        "\n",
        "hub_layer = hub.KerasLayer(embedding, input_shape=[], \n",
        "                           dtype=tf.string, trainable=True)\n",
        "hub_layer(train_examples_batch[:2])"
      ],
      "execution_count": 0,
      "outputs": [
        {
          "output_type": "execute_result",
          "data": {
            "text/plain": [
              "<tf.Tensor: id=206, shape=(2, 20), dtype=float32, numpy=\n",
              "array([[ 0.18651778, -0.9281176 ,  0.10325603, -0.36816752, -0.6148881 ,\n",
              "        -0.05641999, -0.77642274,  0.39698672,  0.88395274,  0.04436603,\n",
              "        -0.28995344,  0.639785  ,  0.5452514 , -0.33809027, -0.32401553,\n",
              "         1.0026587 , -0.00613549, -0.38207006, -0.9543085 , -0.06695113],\n",
              "       [ 1.5637313 , -2.3287256 ,  2.993941  , -2.0870583 , -3.8684976 ,\n",
              "        -0.10289011, -0.16045903, -2.4606495 ,  0.3600781 , -3.160492  ,\n",
              "        -1.8649058 ,  1.1655018 , -1.6710217 ,  1.2492561 , -3.3769703 ,\n",
              "         1.1684757 ,  2.8516662 , -1.5316107 , -4.1721635 , -1.0787376 ]],\n",
              "      dtype=float32)>"
            ]
          },
          "metadata": {
            "tags": []
          },
          "execution_count": 15
        }
      ]
    },
    {
      "cell_type": "markdown",
      "metadata": {
        "id": "xR39EpLBE3Jx",
        "colab_type": "text"
      },
      "source": [
        "## Explore model/training variations\n",
        "\n",
        "We will explore 3 different models and techniques to reduce overfitting. Although it's often possible to achieve high accuracy on the training set, what we really want is to develop models that generalize well to a testing set (or data they haven't seen before). \n",
        "\n",
        "To prevent overfitting, the best solution is to use more training data. A model trained on more data will naturally generalize better. When that is no longer possible, the next best solution is to use techniques like regularization.\n",
        "\n",
        "We will train with 3 models, all using the same architecture: a hub layer (from the previously trained model), a 16-node hidden layer with relu activation, and an output layer with sigmoid activation.\n",
        "\n",
        "We will then plot the 3 training examples to compare their performance"
      ]
    },
    {
      "cell_type": "markdown",
      "metadata": {
        "id": "iJARBviJGgBr",
        "colab_type": "text"
      },
      "source": [
        "### Base Model\n",
        "\n",
        "Create a simple model using only Dense layers as a baseline"
      ]
    },
    {
      "cell_type": "code",
      "metadata": {
        "id": "KrXK61JiRgvD",
        "colab_type": "code",
        "outputId": "92bd7d75-53e1-4068-b13e-b45128112bb7",
        "colab": {
          "base_uri": "https://localhost:8080/",
          "height": 252
        }
      },
      "source": [
        "base_model = tf.keras.Sequential([\n",
        "             hub_layer,\n",
        "             tf.keras.layers.Dense(16, activation='relu'),\n",
        "             tf.keras.layers.Dense(1, activation='sigmoid')\n",
        "])\n",
        "\n",
        "base_model.summary()"
      ],
      "execution_count": 0,
      "outputs": [
        {
          "output_type": "stream",
          "text": [
            "Model: \"sequential\"\n",
            "_________________________________________________________________\n",
            "Layer (type)                 Output Shape              Param #   \n",
            "=================================================================\n",
            "keras_layer (KerasLayer)     (None, 20)                400020    \n",
            "_________________________________________________________________\n",
            "dense (Dense)                (None, 16)                336       \n",
            "_________________________________________________________________\n",
            "dense_1 (Dense)              (None, 1)                 17        \n",
            "=================================================================\n",
            "Total params: 400,373\n",
            "Trainable params: 400,373\n",
            "Non-trainable params: 0\n",
            "_________________________________________________________________\n"
          ],
          "name": "stdout"
        }
      ]
    },
    {
      "cell_type": "markdown",
      "metadata": {
        "id": "Sf9O24-vS2xv",
        "colab_type": "text"
      },
      "source": [
        "The layers are stacked sequentially to build the classifier:\n",
        "\n",
        "1. The first layer is a TensorFlow Hub layer. This layer uses a pre-trained Saved Model to map a sentence into its embedding vector using the pre-trained text embedding model described above. The model splits the sentence into tokens, embeds each token and then combines the embedding. The resulting dimensions are: `(num_examples, embedding_dimension)`.\n",
        "2. This fixed-length output vector is piped through a fully-connected (`Dense`) layer with 16 hidden units or nodes.\n",
        "3. The last layer is densely connected with a single output node. Using the `sigmoid` activation function, this value is a float between 0 and 1, representing a probability, or confidence level.\n",
        "\n",
        "Let's compile the model."
      ]
    },
    {
      "cell_type": "code",
      "metadata": {
        "id": "qH7Y0QMbSAC2",
        "colab_type": "code",
        "colab": {}
      },
      "source": [
        "base_model.compile(optimizer=tf.keras.optimizers.Adam(learning_rate=0.001),\n",
        "                  loss='binary_crossentropy',\n",
        "                  metrics=['accuracy', 'binary_crossentropy'])"
      ],
      "execution_count": 0,
      "outputs": []
    },
    {
      "cell_type": "code",
      "metadata": {
        "id": "lGnJSwR3SFsE",
        "colab_type": "code",
        "outputId": "4634267c-960a-4b11-f753-ce200bfab6c7",
        "colab": {
          "base_uri": "https://localhost:8080/",
          "height": 709
        }
      },
      "source": [
        "baseline_history = base_model.fit(t_dataset.shuffle(len(train_dataset)).batch(512),\n",
        "                                 epochs=20,\n",
        "                                 validation_data=v_dataset.batch(512),\n",
        "                                 verbose=2)"
      ],
      "execution_count": 0,
      "outputs": [
        {
          "output_type": "stream",
          "text": [
            "Epoch 1/20\n",
            "250/250 - 8s - loss: 0.3487 - accuracy: 0.8649 - binary_crossentropy: 0.3490 - val_loss: 0.0000e+00 - val_accuracy: 0.0000e+00 - val_binary_crossentropy: 0.0000e+00\n",
            "Epoch 2/20\n",
            "250/250 - 7s - loss: 0.2148 - accuracy: 0.9275 - binary_crossentropy: 0.2147 - val_loss: 0.1928 - val_accuracy: 0.9341 - val_binary_crossentropy: 0.1932\n",
            "Epoch 3/20\n",
            "250/250 - 5s - loss: 0.1705 - accuracy: 0.9408 - binary_crossentropy: 0.1705 - val_loss: 0.1672 - val_accuracy: 0.9410 - val_binary_crossentropy: 0.1676\n",
            "Epoch 4/20\n",
            "250/250 - 6s - loss: 0.1474 - accuracy: 0.9482 - binary_crossentropy: 0.1474 - val_loss: 0.1573 - val_accuracy: 0.9441 - val_binary_crossentropy: 0.1576\n",
            "Epoch 5/20\n",
            "250/250 - 4s - loss: 0.1339 - accuracy: 0.9520 - binary_crossentropy: 0.1340 - val_loss: 0.1529 - val_accuracy: 0.9456 - val_binary_crossentropy: 0.1532\n",
            "Epoch 6/20\n",
            "250/250 - 7s - loss: 0.1255 - accuracy: 0.9542 - binary_crossentropy: 0.1254 - val_loss: 0.1520 - val_accuracy: 0.9475 - val_binary_crossentropy: 0.1523\n",
            "Epoch 7/20\n",
            "250/250 - 6s - loss: 0.1193 - accuracy: 0.9561 - binary_crossentropy: 0.1193 - val_loss: 0.1522 - val_accuracy: 0.9477 - val_binary_crossentropy: 0.1525\n",
            "Epoch 8/20\n",
            "250/250 - 6s - loss: 0.1148 - accuracy: 0.9576 - binary_crossentropy: 0.1149 - val_loss: 0.1535 - val_accuracy: 0.9474 - val_binary_crossentropy: 0.1538\n",
            "Epoch 9/20\n",
            "250/250 - 4s - loss: 0.1114 - accuracy: 0.9589 - binary_crossentropy: 0.1114 - val_loss: 0.1571 - val_accuracy: 0.9454 - val_binary_crossentropy: 0.1573\n",
            "Epoch 10/20\n",
            "250/250 - 4s - loss: 0.1086 - accuracy: 0.9598 - binary_crossentropy: 0.1086 - val_loss: 0.1583 - val_accuracy: 0.9463 - val_binary_crossentropy: 0.1585\n",
            "Epoch 11/20\n",
            "250/250 - 4s - loss: 0.1061 - accuracy: 0.9608 - binary_crossentropy: 0.1061 - val_loss: 0.1604 - val_accuracy: 0.9465 - val_binary_crossentropy: 0.1607\n",
            "Epoch 12/20\n",
            "250/250 - 4s - loss: 0.1039 - accuracy: 0.9612 - binary_crossentropy: 0.1039 - val_loss: 0.1633 - val_accuracy: 0.9455 - val_binary_crossentropy: 0.1636\n",
            "Epoch 13/20\n",
            "250/250 - 4s - loss: 0.1019 - accuracy: 0.9621 - binary_crossentropy: 0.1019 - val_loss: 0.1658 - val_accuracy: 0.9454 - val_binary_crossentropy: 0.1661\n",
            "Epoch 14/20\n",
            "250/250 - 4s - loss: 0.1004 - accuracy: 0.9628 - binary_crossentropy: 0.1004 - val_loss: 0.1689 - val_accuracy: 0.9459 - val_binary_crossentropy: 0.1692\n",
            "Epoch 15/20\n",
            "250/250 - 4s - loss: 0.0987 - accuracy: 0.9632 - binary_crossentropy: 0.0986 - val_loss: 0.1725 - val_accuracy: 0.9455 - val_binary_crossentropy: 0.1728\n",
            "Epoch 16/20\n",
            "250/250 - 4s - loss: 0.0973 - accuracy: 0.9634 - binary_crossentropy: 0.0974 - val_loss: 0.1749 - val_accuracy: 0.9435 - val_binary_crossentropy: 0.1752\n",
            "Epoch 17/20\n",
            "250/250 - 6s - loss: 0.0957 - accuracy: 0.9643 - binary_crossentropy: 0.0958 - val_loss: 0.1785 - val_accuracy: 0.9433 - val_binary_crossentropy: 0.1788\n",
            "Epoch 18/20\n",
            "250/250 - 6s - loss: 0.0946 - accuracy: 0.9645 - binary_crossentropy: 0.0945 - val_loss: 0.1814 - val_accuracy: 0.9433 - val_binary_crossentropy: 0.1817\n",
            "Epoch 19/20\n",
            "250/250 - 7s - loss: 0.0931 - accuracy: 0.9652 - binary_crossentropy: 0.0931 - val_loss: 0.1842 - val_accuracy: 0.9430 - val_binary_crossentropy: 0.1845\n",
            "Epoch 20/20\n",
            "250/250 - 4s - loss: 0.0918 - accuracy: 0.9657 - binary_crossentropy: 0.0918 - val_loss: 0.1894 - val_accuracy: 0.9433 - val_binary_crossentropy: 0.1897\n"
          ],
          "name": "stdout"
        }
      ]
    },
    {
      "cell_type": "code",
      "metadata": {
        "id": "TyENJznXBaTu",
        "colab_type": "code",
        "outputId": "ffa5af4c-44c0-4891-da32-cb253d2c04e0",
        "colab": {
          "base_uri": "https://localhost:8080/",
          "height": 34
        }
      },
      "source": [
        "print(baseline_history.history.keys())"
      ],
      "execution_count": 0,
      "outputs": [
        {
          "output_type": "stream",
          "text": [
            "dict_keys(['loss', 'accuracy', 'binary_crossentropy', 'val_loss', 'val_accuracy', 'val_binary_crossentropy'])\n"
          ],
          "name": "stdout"
        }
      ]
    },
    {
      "cell_type": "markdown",
      "metadata": {
        "id": "42Vmn8bxHarV",
        "colab_type": "text"
      },
      "source": [
        "### Add Weight Regularization (L2)\n",
        "\n",
        "A common way to mitigate overfitting is to put constraints on the complexity of a network by forcing its weights only to take small values, which makes the distribution of weight values more \"regular\". This is called \"weight regularization\", and it is done by adding to the loss function of the network a cost associated with having large weights. \n",
        "\n",
        "We will use L2 Regularitazion, also called weight decay in the context of neural networks. \n",
        "\n",
        "In `tf.keras`, weight regularization is added by passing weight regularizer instances to layers as keyword arguments. Let's add L2 weight regularization now"
      ]
    },
    {
      "cell_type": "code",
      "metadata": {
        "id": "C74tbpyTpBZR",
        "colab_type": "code",
        "outputId": "6cafaa73-6c27-46d5-9a2e-fa0dbed45c9f",
        "colab": {
          "base_uri": "https://localhost:8080/",
          "height": 709
        }
      },
      "source": [
        "l2_model = tf.keras.Sequential([\n",
        "           hub_layer,\n",
        "           tf.keras.layers.Dense(16, kernel_regularizer = tf.keras.regularizers.l2(0.01), \n",
        "                                 activation='relu'),\n",
        "           tf.keras.layers.Dense(1, activation='sigmoid')\n",
        "])\n",
        "\n",
        "l2_model.compile(optimizer=tf.keras.optimizers.Adam(learning_rate=0.001),\n",
        "                loss='binary_crossentropy',\n",
        "                metrics=['accuracy', 'binary_crossentropy'])\n",
        "\n",
        "\n",
        "l2_history = l2_model.fit(t_dataset.shuffle(len(train_dataset)).batch(512),\n",
        "                         epochs=20,\n",
        "                         validation_data=v_dataset.batch(512),\n",
        "                         verbose=2)"
      ],
      "execution_count": 0,
      "outputs": [
        {
          "output_type": "stream",
          "text": [
            "Epoch 1/20\n",
            "250/250 - 7s - loss: 0.4033 - accuracy: 0.8994 - binary_crossentropy: 0.2849 - val_loss: 0.0000e+00 - val_accuracy: 0.0000e+00 - val_binary_crossentropy: 0.0000e+00\n",
            "Epoch 2/20\n",
            "250/250 - 5s - loss: 0.2251 - accuracy: 0.9470 - binary_crossentropy: 0.1594 - val_loss: 0.2144 - val_accuracy: 0.9447 - val_binary_crossentropy: 0.1630\n",
            "Epoch 3/20\n",
            "250/250 - 7s - loss: 0.1683 - accuracy: 0.9548 - binary_crossentropy: 0.1256 - val_loss: 0.1898 - val_accuracy: 0.9470 - val_binary_crossentropy: 0.1545\n",
            "Epoch 4/20\n",
            "250/250 - 7s - loss: 0.1455 - accuracy: 0.9572 - binary_crossentropy: 0.1152 - val_loss: 0.1803 - val_accuracy: 0.9468 - val_binary_crossentropy: 0.1546\n",
            "Epoch 5/20\n",
            "250/250 - 8s - loss: 0.1336 - accuracy: 0.9583 - binary_crossentropy: 0.1110 - val_loss: 0.1741 - val_accuracy: 0.9466 - val_binary_crossentropy: 0.1546\n",
            "Epoch 6/20\n",
            "250/250 - 8s - loss: 0.1265 - accuracy: 0.9593 - binary_crossentropy: 0.1088 - val_loss: 0.1716 - val_accuracy: 0.9461 - val_binary_crossentropy: 0.1559\n",
            "Epoch 7/20\n",
            "250/250 - 7s - loss: 0.1213 - accuracy: 0.9602 - binary_crossentropy: 0.1069 - val_loss: 0.1703 - val_accuracy: 0.9461 - val_binary_crossentropy: 0.1570\n",
            "Epoch 8/20\n",
            "250/250 - 5s - loss: 0.1179 - accuracy: 0.9609 - binary_crossentropy: 0.1054 - val_loss: 0.1693 - val_accuracy: 0.9454 - val_binary_crossentropy: 0.1579\n",
            "Epoch 9/20\n",
            "250/250 - 5s - loss: 0.1151 - accuracy: 0.9612 - binary_crossentropy: 0.1043 - val_loss: 0.1700 - val_accuracy: 0.9447 - val_binary_crossentropy: 0.1598\n",
            "Epoch 10/20\n",
            "250/250 - 4s - loss: 0.1131 - accuracy: 0.9617 - binary_crossentropy: 0.1032 - val_loss: 0.1698 - val_accuracy: 0.9462 - val_binary_crossentropy: 0.1606\n",
            "Epoch 11/20\n",
            "250/250 - 4s - loss: 0.1114 - accuracy: 0.9619 - binary_crossentropy: 0.1023 - val_loss: 0.1718 - val_accuracy: 0.9461 - val_binary_crossentropy: 0.1631\n",
            "Epoch 12/20\n",
            "250/250 - 4s - loss: 0.1100 - accuracy: 0.9624 - binary_crossentropy: 0.1014 - val_loss: 0.1719 - val_accuracy: 0.9459 - val_binary_crossentropy: 0.1638\n",
            "Epoch 13/20\n",
            "250/250 - 4s - loss: 0.1087 - accuracy: 0.9626 - binary_crossentropy: 0.1007 - val_loss: 0.1705 - val_accuracy: 0.9453 - val_binary_crossentropy: 0.1629\n",
            "Epoch 14/20\n",
            "250/250 - 4s - loss: 0.1077 - accuracy: 0.9627 - binary_crossentropy: 0.1001 - val_loss: 0.1737 - val_accuracy: 0.9456 - val_binary_crossentropy: 0.1665\n",
            "Epoch 15/20\n",
            "250/250 - 4s - loss: 0.1068 - accuracy: 0.9632 - binary_crossentropy: 0.0995 - val_loss: 0.1755 - val_accuracy: 0.9448 - val_binary_crossentropy: 0.1683\n",
            "Epoch 16/20\n",
            "250/250 - 4s - loss: 0.1057 - accuracy: 0.9633 - binary_crossentropy: 0.0987 - val_loss: 0.1771 - val_accuracy: 0.9451 - val_binary_crossentropy: 0.1703\n",
            "Epoch 17/20\n",
            "250/250 - 5s - loss: 0.1049 - accuracy: 0.9636 - binary_crossentropy: 0.0982 - val_loss: 0.1754 - val_accuracy: 0.9441 - val_binary_crossentropy: 0.1691\n",
            "Epoch 18/20\n",
            "250/250 - 4s - loss: 0.1041 - accuracy: 0.9634 - binary_crossentropy: 0.0977 - val_loss: 0.1770 - val_accuracy: 0.9445 - val_binary_crossentropy: 0.1708\n",
            "Epoch 19/20\n",
            "250/250 - 4s - loss: 0.1036 - accuracy: 0.9639 - binary_crossentropy: 0.0973 - val_loss: 0.1794 - val_accuracy: 0.9444 - val_binary_crossentropy: 0.1733\n",
            "Epoch 20/20\n",
            "250/250 - 4s - loss: 0.1028 - accuracy: 0.9641 - binary_crossentropy: 0.0967 - val_loss: 0.1796 - val_accuracy: 0.9447 - val_binary_crossentropy: 0.1738\n"
          ],
          "name": "stdout"
        }
      ]
    },
    {
      "cell_type": "markdown",
      "metadata": {
        "id": "mk0HY6GuIVqm",
        "colab_type": "text"
      },
      "source": [
        "### Add Dropout\n",
        "\n",
        "Dropout is one of the most effective and most commonly used regularization techniques for neural networks.  Dropout, applied to a layer, consists of randomly \"dropping out\" (i.e. set to zero) a number of output features of the layer during training.\n",
        "\n",
        "In tf.keras you can introduce dropout in a network via the Dropout layer, which gets applied to the output of layer right before.\n",
        "\n",
        "Let's add two Dropout layers in our toxic comment classification network to see how well they do at reducing overfitting."
      ]
    },
    {
      "cell_type": "code",
      "metadata": {
        "id": "jWM4B7umuJSR",
        "colab_type": "code",
        "outputId": "ac55ff8f-5df0-4958-c2d0-4c7834e6fd3e",
        "colab": {
          "base_uri": "https://localhost:8080/",
          "height": 709
        }
      },
      "source": [
        "dpt_model = tf.keras.Sequential([\n",
        "           hub_layer,\n",
        "           tf.keras.layers.Dense(16, activation='relu'),\n",
        "           tf.keras.layers.Dropout(0.5),\n",
        "           tf.keras.layers.Dense(1, activation='sigmoid')\n",
        "])\n",
        "\n",
        "dpt_model.compile(optimizer=tf.keras.optimizers.Adam(learning_rate=0.001),\n",
        "                loss='binary_crossentropy',\n",
        "                metrics=['accuracy', 'binary_crossentropy'])\n",
        "\n",
        "\n",
        "dpt_history = dpt_model.fit(t_dataset.shuffle(len(train_dataset)).batch(512),\n",
        "                         epochs=20,\n",
        "                         validation_data=v_dataset.batch(512),\n",
        "                         verbose=2)"
      ],
      "execution_count": 0,
      "outputs": [
        {
          "output_type": "stream",
          "text": [
            "Epoch 1/20\n",
            "250/250 - 8s - loss: 0.3211 - accuracy: 0.8801 - binary_crossentropy: 0.3216 - val_loss: 0.0000e+00 - val_accuracy: 0.0000e+00 - val_binary_crossentropy: 0.0000e+00\n",
            "Epoch 2/20\n",
            "250/250 - 8s - loss: 0.1655 - accuracy: 0.9454 - binary_crossentropy: 0.1656 - val_loss: 0.1687 - val_accuracy: 0.9455 - val_binary_crossentropy: 0.1689\n",
            "Epoch 3/20\n",
            "250/250 - 8s - loss: 0.1407 - accuracy: 0.9517 - binary_crossentropy: 0.1407 - val_loss: 0.1701 - val_accuracy: 0.9440 - val_binary_crossentropy: 0.1704\n",
            "Epoch 4/20\n",
            "250/250 - 4s - loss: 0.1295 - accuracy: 0.9552 - binary_crossentropy: 0.1296 - val_loss: 0.1755 - val_accuracy: 0.9437 - val_binary_crossentropy: 0.1757\n",
            "Epoch 5/20\n",
            "250/250 - 4s - loss: 0.1220 - accuracy: 0.9573 - binary_crossentropy: 0.1220 - val_loss: 0.1795 - val_accuracy: 0.9425 - val_binary_crossentropy: 0.1798\n",
            "Epoch 6/20\n",
            "250/250 - 4s - loss: 0.1186 - accuracy: 0.9575 - binary_crossentropy: 0.1186 - val_loss: 0.1854 - val_accuracy: 0.9444 - val_binary_crossentropy: 0.1857\n",
            "Epoch 7/20\n",
            "250/250 - 4s - loss: 0.1150 - accuracy: 0.9585 - binary_crossentropy: 0.1151 - val_loss: 0.1892 - val_accuracy: 0.9423 - val_binary_crossentropy: 0.1895\n",
            "Epoch 8/20\n",
            "250/250 - 4s - loss: 0.1120 - accuracy: 0.9596 - binary_crossentropy: 0.1120 - val_loss: 0.1941 - val_accuracy: 0.9426 - val_binary_crossentropy: 0.1944\n",
            "Epoch 9/20\n",
            "250/250 - 5s - loss: 0.1097 - accuracy: 0.9597 - binary_crossentropy: 0.1098 - val_loss: 0.1989 - val_accuracy: 0.9412 - val_binary_crossentropy: 0.1992\n",
            "Epoch 10/20\n",
            "250/250 - 7s - loss: 0.1079 - accuracy: 0.9596 - binary_crossentropy: 0.1079 - val_loss: 0.2003 - val_accuracy: 0.9423 - val_binary_crossentropy: 0.2007\n",
            "Epoch 11/20\n",
            "250/250 - 6s - loss: 0.1053 - accuracy: 0.9610 - binary_crossentropy: 0.1052 - val_loss: 0.2126 - val_accuracy: 0.9416 - val_binary_crossentropy: 0.2129\n",
            "Epoch 12/20\n",
            "250/250 - 5s - loss: 0.1054 - accuracy: 0.9607 - binary_crossentropy: 0.1055 - val_loss: 0.2148 - val_accuracy: 0.9420 - val_binary_crossentropy: 0.2152\n",
            "Epoch 13/20\n",
            "250/250 - 5s - loss: 0.1033 - accuracy: 0.9612 - binary_crossentropy: 0.1032 - val_loss: 0.2153 - val_accuracy: 0.9419 - val_binary_crossentropy: 0.2157\n",
            "Epoch 14/20\n",
            "250/250 - 5s - loss: 0.1020 - accuracy: 0.9616 - binary_crossentropy: 0.1020 - val_loss: 0.2204 - val_accuracy: 0.9420 - val_binary_crossentropy: 0.2209\n",
            "Epoch 15/20\n",
            "250/250 - 8s - loss: 0.1001 - accuracy: 0.9619 - binary_crossentropy: 0.1001 - val_loss: 0.2287 - val_accuracy: 0.9416 - val_binary_crossentropy: 0.2291\n",
            "Epoch 16/20\n",
            "250/250 - 9s - loss: 0.1000 - accuracy: 0.9616 - binary_crossentropy: 0.1000 - val_loss: 0.2238 - val_accuracy: 0.9412 - val_binary_crossentropy: 0.2243\n",
            "Epoch 17/20\n",
            "250/250 - 6s - loss: 0.0979 - accuracy: 0.9628 - binary_crossentropy: 0.0979 - val_loss: 0.2351 - val_accuracy: 0.9412 - val_binary_crossentropy: 0.2356\n",
            "Epoch 18/20\n",
            "250/250 - 6s - loss: 0.0975 - accuracy: 0.9628 - binary_crossentropy: 0.0975 - val_loss: 0.2303 - val_accuracy: 0.9413 - val_binary_crossentropy: 0.2308\n",
            "Epoch 19/20\n",
            "250/250 - 7s - loss: 0.0963 - accuracy: 0.9632 - binary_crossentropy: 0.0963 - val_loss: 0.2453 - val_accuracy: 0.9403 - val_binary_crossentropy: 0.2458\n",
            "Epoch 20/20\n",
            "250/250 - 6s - loss: 0.0956 - accuracy: 0.9636 - binary_crossentropy: 0.0956 - val_loss: 0.2447 - val_accuracy: 0.9414 - val_binary_crossentropy: 0.2452\n"
          ],
          "name": "stdout"
        }
      ]
    },
    {
      "cell_type": "markdown",
      "metadata": {
        "id": "m1dcJG-zJA-L",
        "colab_type": "text"
      },
      "source": [
        "## Plot the training and validation loss"
      ]
    },
    {
      "cell_type": "markdown",
      "metadata": {
        "id": "1m1yOef3JE_3",
        "colab_type": "text"
      },
      "source": [
        "The solid lines show the training loss, and the dashed lines show the validation loss. A lower validation loss indicates a better model.\n",
        "\n",
        "In our case, the model trained with **L2 Regularization** yields better results, with less overfitting during training. Altough, with our **Test Dataset** below, the test accuracy of the models using L2 and Dropout techniques yield similar results. "
      ]
    },
    {
      "cell_type": "code",
      "metadata": {
        "id": "bEaTiulPAsUV",
        "colab_type": "code",
        "colab": {}
      },
      "source": [
        "def plot_history(histories, key='binary_crossentropy'):\n",
        "  plt.figure(figsize=(16,10))\n",
        "\n",
        "  for name, history in histories:\n",
        "    val = plt.plot(history.epoch, history.history['val_'+key],\n",
        "                   '--', label=name.title()+' Val')\n",
        "    plt.plot(history.epoch, history.history[key], color=val[0].get_color(),\n",
        "             label=name.title()+' Train')\n",
        "\n",
        "  plt.xlabel('Epochs')\n",
        "  plt.ylabel(key.replace('_',' ').title())\n",
        "  plt.legend()\n",
        "\n",
        "  plt.xlim([0,max(history.epoch)])\n"
      ],
      "execution_count": 0,
      "outputs": []
    },
    {
      "cell_type": "code",
      "metadata": {
        "id": "0nqh5LhCDWRR",
        "colab_type": "code",
        "outputId": "062de89a-ef53-4f3e-f740-d53472e40deb",
        "colab": {
          "base_uri": "https://localhost:8080/",
          "height": 609
        }
      },
      "source": [
        "plot_history([('baseline', baseline_history),\n",
        "              ('L2',l2_history),\n",
        "              ('Dropout', dpt_history)\n",
        "             ])"
      ],
      "execution_count": 0,
      "outputs": [
        {
          "output_type": "display_data",
          "data": {
            "image/png": "[encoded data removed]",
            "text/plain": [
              "<Figure size 1152x720 with 1 Axes>"
            ]
          },
          "metadata": {
            "tags": []
          }
        }
      ]
    },
    {
      "cell_type": "markdown",
      "metadata": {
        "id": "jTgZIPJEDAjf",
        "colab_type": "text"
      },
      "source": [
        "# Test Set evaluation\n",
        "Your boss is now ready to look at your model. However, they want to evaluate your model on a separate test set before deploying it.\n",
        "There's one small catch. It's possible that you've tuned your hyper-parameters a lot to lower the error on the validation set. Let's see if this affects you :-) \n",
        "\n",
        "**NOTE** We'll normilize the test set just as we did it for the training set."
      ]
    },
    {
      "cell_type": "code",
      "metadata": {
        "id": "k3DSOJs7UWT-",
        "colab_type": "code",
        "outputId": "a4c2d995-2358-44d9-eaa6-745ef764506f",
        "colab": {
          "base_uri": "https://localhost:8080/",
          "height": 34
        }
      },
      "source": [
        "! rm test*"
      ],
      "execution_count": 0,
      "outputs": [
        {
          "output_type": "stream",
          "text": [
            "rm: cannot remove 'test*': No such file or directory\n"
          ],
          "name": "stdout"
        }
      ]
    },
    {
      "cell_type": "code",
      "metadata": {
        "id": "IzpDYbrHDt0R",
        "colab_type": "code",
        "outputId": "9f98f128-d2ff-4c91-a484-f605f086a607",
        "colab": {
          "base_uri": "https://localhost:8080/",
          "height": 373
        }
      },
      "source": [
        "# Original data belongs to https://www.kaggle.com/c/jigsaw-toxic-comment-classification-challenge/data\n",
        "! wget https://www.dropbox.com/s/tst2y6mzwzbhxo3/test.csv"
      ],
      "execution_count": 0,
      "outputs": [
        {
          "output_type": "stream",
          "text": [
            "--2019-10-22 02:43:17--  https://www.dropbox.com/s/tst2y6mzwzbhxo3/test.csv\n",
            "Resolving www.dropbox.com (www.dropbox.com)... 162.125.9.1, 2620:100:601f:1::a27d:901\n",
            "Connecting to www.dropbox.com (www.dropbox.com)|162.125.9.1|:443... connected.\n",
            "HTTP request sent, awaiting response... 301 Moved Permanently\n",
            "Location: /s/raw/tst2y6mzwzbhxo3/test.csv [following]\n",
            "--2019-10-22 02:43:17--  https://www.dropbox.com/s/raw/tst2y6mzwzbhxo3/test.csv\n",
            "Reusing existing connection to www.dropbox.com:443.\n",
            "HTTP request sent, awaiting response... 302 Found\n",
            "Location: https://uc85429a225d9cb37af2ad0aecd5.dl.dropboxusercontent.com/cd/0/inline/Aq4XK0Pwoj3K83O3GU678EVday274yayRsFV0vZzD6uu0vq1oKcJBYmc4t7W5DsGY0m5qe9jAjzKjGUBz1yOoQWFILfpZvR-sZ6rEcLmbil7jg/file# [following]\n",
            "--2019-10-22 02:43:17--  https://uc85429a225d9cb37af2ad0aecd5.dl.dropboxusercontent.com/cd/0/inline/Aq4XK0Pwoj3K83O3GU678EVday274yayRsFV0vZzD6uu0vq1oKcJBYmc4t7W5DsGY0m5qe9jAjzKjGUBz1yOoQWFILfpZvR-sZ6rEcLmbil7jg/file\n",
            "Resolving uc85429a225d9cb37af2ad0aecd5.dl.dropboxusercontent.com (uc85429a225d9cb37af2ad0aecd5.dl.dropboxusercontent.com)... 162.125.9.6, 2620:100:601f:6::a27d:906\n",
            "Connecting to uc85429a225d9cb37af2ad0aecd5.dl.dropboxusercontent.com (uc85429a225d9cb37af2ad0aecd5.dl.dropboxusercontent.com)|162.125.9.6|:443... connected.\n",
            "HTTP request sent, awaiting response... 200 OK\n",
            "Length: 27511524 (26M) [text/plain]\n",
            "Saving to: ‘test.csv’\n",
            "\n",
            "test.csv            100%[===================>]  26.24M  60.3MB/s    in 0.4s    \n",
            "\n",
            "2019-10-22 02:43:18 (60.3 MB/s) - ‘test.csv’ saved [27511524/27511524]\n",
            "\n"
          ],
          "name": "stdout"
        }
      ]
    },
    {
      "cell_type": "code",
      "metadata": {
        "id": "naDvpGR-ETg1",
        "colab_type": "code",
        "colab": {}
      },
      "source": [
        "test_dataset = pd.read_csv(\"test.csv\")[ [\"comment_text\", \"toxic\"] ]"
      ],
      "execution_count": 0,
      "outputs": []
    },
    {
      "cell_type": "code",
      "metadata": {
        "id": "pvJKfXUFEiY7",
        "colab_type": "code",
        "outputId": "db8d0372-264a-4690-d04a-fc30a66e53f9",
        "colab": {
          "base_uri": "https://localhost:8080/",
          "height": 195
        }
      },
      "source": [
        "# Print first values *before* normilization\n",
        "test_dataset.head(5)"
      ],
      "execution_count": 0,
      "outputs": [
        {
          "output_type": "execute_result",
          "data": {
            "text/html": [
              "<div>\n",
              "<style scoped>\n",
              "    .dataframe tbody tr th:only-of-type {\n",
              "        vertical-align: middle;\n",
              "    }\n",
              "\n",
              "    .dataframe tbody tr th {\n",
              "        vertical-align: top;\n",
              "    }\n",
              "\n",
              "    .dataframe thead th {\n",
              "        text-align: right;\n",
              "    }\n",
              "</style>\n",
              "<table border=\"1\" class=\"dataframe\">\n",
              "  <thead>\n",
              "    <tr style=\"text-align: right;\">\n",
              "      <th></th>\n",
              "      <th>comment_text</th>\n",
              "      <th>toxic</th>\n",
              "    </tr>\n",
              "  </thead>\n",
              "  <tbody>\n",
              "    <tr>\n",
              "      <th>0</th>\n",
              "      <td>Thank you for understanding. I think very high...</td>\n",
              "      <td>0</td>\n",
              "    </tr>\n",
              "    <tr>\n",
              "      <th>1</th>\n",
              "      <td>:Dear god this site is horrible.</td>\n",
              "      <td>0</td>\n",
              "    </tr>\n",
              "    <tr>\n",
              "      <th>2</th>\n",
              "      <td>\"::: Somebody will invariably try to add Relig...</td>\n",
              "      <td>0</td>\n",
              "    </tr>\n",
              "    <tr>\n",
              "      <th>3</th>\n",
              "      <td>\" \\n\\n It says it right there that it IS a typ...</td>\n",
              "      <td>0</td>\n",
              "    </tr>\n",
              "    <tr>\n",
              "      <th>4</th>\n",
              "      <td>\" \\n\\n == Before adding a new product to the l...</td>\n",
              "      <td>0</td>\n",
              "    </tr>\n",
              "  </tbody>\n",
              "</table>\n",
              "</div>"
            ],
            "text/plain": [
              "                                        comment_text  toxic\n",
              "0  Thank you for understanding. I think very high...      0\n",
              "1                   :Dear god this site is horrible.      0\n",
              "2  \"::: Somebody will invariably try to add Relig...      0\n",
              "3  \" \\n\\n It says it right there that it IS a typ...      0\n",
              "4  \" \\n\\n == Before adding a new product to the l...      0"
            ]
          },
          "metadata": {
            "tags": []
          },
          "execution_count": 27
        }
      ]
    },
    {
      "cell_type": "code",
      "metadata": {
        "id": "cCKXdxS1yvjq",
        "colab_type": "code",
        "colab": {}
      },
      "source": [
        "### ---> Normize Test dataset\n",
        "pd.options.mode.chained_assignment = None\n",
        "norm_corpus = normalize_corpus(test_dataset['comment_text'])\n",
        "test_dataset['comment_text'] = norm_corpus"
      ],
      "execution_count": 0,
      "outputs": []
    },
    {
      "cell_type": "code",
      "metadata": {
        "id": "eibnjvyq81eH",
        "colab_type": "code",
        "outputId": "844efe38-ff07-4ca6-cb77-31d6b3bf434c",
        "colab": {
          "base_uri": "https://localhost:8080/",
          "height": 195
        }
      },
      "source": [
        "# Print first values *after* normalization\n",
        "test_dataset.head(5)\n"
      ],
      "execution_count": 0,
      "outputs": [
        {
          "output_type": "execute_result",
          "data": {
            "text/html": [
              "<div>\n",
              "<style scoped>\n",
              "    .dataframe tbody tr th:only-of-type {\n",
              "        vertical-align: middle;\n",
              "    }\n",
              "\n",
              "    .dataframe tbody tr th {\n",
              "        vertical-align: top;\n",
              "    }\n",
              "\n",
              "    .dataframe thead th {\n",
              "        text-align: right;\n",
              "    }\n",
              "</style>\n",
              "<table border=\"1\" class=\"dataframe\">\n",
              "  <thead>\n",
              "    <tr style=\"text-align: right;\">\n",
              "      <th></th>\n",
              "      <th>comment_text</th>\n",
              "      <th>toxic</th>\n",
              "    </tr>\n",
              "  </thead>\n",
              "  <tbody>\n",
              "    <tr>\n",
              "      <th>0</th>\n",
              "      <td>thank understanding think highly would revert ...</td>\n",
              "      <td>0</td>\n",
              "    </tr>\n",
              "    <tr>\n",
              "      <th>1</th>\n",
              "      <td>dear god site horrible</td>\n",
              "      <td>0</td>\n",
              "    </tr>\n",
              "    <tr>\n",
              "      <th>2</th>\n",
              "      <td>somebody invariably try add religion really me...</td>\n",
              "      <td>0</td>\n",
              "    </tr>\n",
              "    <tr>\n",
              "      <th>3</th>\n",
              "      <td>says right type type institution needed case t...</td>\n",
              "      <td>0</td>\n",
              "    </tr>\n",
              "    <tr>\n",
              "      <th>4</th>\n",
              "      <td>adding new product list make sure relevant add...</td>\n",
              "      <td>0</td>\n",
              "    </tr>\n",
              "  </tbody>\n",
              "</table>\n",
              "</div>"
            ],
            "text/plain": [
              "                                        comment_text  toxic\n",
              "0  thank understanding think highly would revert ...      0\n",
              "1                             dear god site horrible      0\n",
              "2  somebody invariably try add religion really me...      0\n",
              "3  says right type type institution needed case t...      0\n",
              "4  adding new product list make sure relevant add...      0"
            ]
          },
          "metadata": {
            "tags": []
          },
          "execution_count": 29
        }
      ]
    },
    {
      "cell_type": "code",
      "metadata": {
        "colab_type": "code",
        "id": "vo_Ya9EtWk66",
        "colab": {}
      },
      "source": [
        "# convert Pandas Dataframe Series into Tensor Vector for evaluation\n",
        "test_data = tf.data.Dataset.from_tensor_slices((test_dataset['comment_text'], test_dataset['toxic']))"
      ],
      "execution_count": 0,
      "outputs": []
    },
    {
      "cell_type": "code",
      "metadata": {
        "id": "w1MZejuOyX53",
        "colab_type": "code",
        "outputId": "0e7aeda4-71b4-4012-bbbb-3fb06ea267e1",
        "colab": {
          "base_uri": "https://localhost:8080/",
          "height": 84
        }
      },
      "source": [
        "results = base_model.evaluate(test_data.batch(512), verbose=2)\n",
        "for name, value in zip(base_model.metrics_names, results):\n",
        "  print(\"%s: %.3f\" % (name, value))"
      ],
      "execution_count": 0,
      "outputs": [
        {
          "output_type": "stream",
          "text": [
            "125/125 - 1s - loss: 0.5184 - accuracy: 0.8787 - binary_crossentropy: 0.5183\n",
            "loss: 0.518\n",
            "accuracy: 0.879\n",
            "binary_crossentropy: 0.518\n"
          ],
          "name": "stdout"
        }
      ]
    },
    {
      "cell_type": "code",
      "metadata": {
        "id": "mmFwqKsqQsU7",
        "colab_type": "code",
        "outputId": "d0eb679f-4b45-415d-dd9d-46ce0c9f6d27",
        "colab": {
          "base_uri": "https://localhost:8080/",
          "height": 84
        }
      },
      "source": [
        "results = l2_model.evaluate(test_data.batch(512), verbose=2)\n",
        "for name, value in zip(l2_model.metrics_names, results):\n",
        "  print(\"%s: %.3f\" % (name, value))"
      ],
      "execution_count": 0,
      "outputs": [
        {
          "output_type": "stream",
          "text": [
            "125/125 - 1s - loss: 0.2814 - accuracy: 0.9058 - binary_crossentropy: 0.2754\n",
            "loss: 0.281\n",
            "accuracy: 0.906\n",
            "binary_crossentropy: 0.275\n"
          ],
          "name": "stdout"
        }
      ]
    },
    {
      "cell_type": "code",
      "metadata": {
        "colab_type": "code",
        "id": "VmomAGYXWj3Q",
        "outputId": "3d5c90b2-3ba8-408e-e113-d69d9c6f2169",
        "colab": {
          "base_uri": "https://localhost:8080/",
          "height": 84
        }
      },
      "source": [
        "results = dpt_model.evaluate(test_data.batch(512), verbose=2)\n",
        "for name, value in zip(dpt_model.metrics_names, results):\n",
        "  print(\"%s: %.3f\" % (name, value))"
      ],
      "execution_count": 0,
      "outputs": [
        {
          "output_type": "stream",
          "text": [
            "125/125 - 1s - loss: 0.3474 - accuracy: 0.9060 - binary_crossentropy: 0.3474\n",
            "loss: 0.347\n",
            "accuracy: 0.906\n",
            "binary_crossentropy: 0.347\n"
          ],
          "name": "stdout"
        }
      ]
    },
    {
      "cell_type": "markdown",
      "metadata": {
        "id": "7C1075_ce57W",
        "colab_type": "text"
      },
      "source": [
        "\n",
        "## References\n",
        "\n",
        "* Text classification using tf.keras https://www.tensorflow.org/tutorials/keras/basic_text_classification\n",
        "\n",
        "* How to build a simple text classifier with TF-Hub https://www.tensorflow.org/tutorials/text_classification_with_tf_hub\n",
        "\n",
        "* Text Classification Tutorial using Tensorflow: https://mohammadkhalifa.github.io/Step-by-Step-Text-Classification-Tutorial-using-Tensorflow/\n",
        "  * Feature-engineering methods for text classification https://towardsdatascience.com/understanding-feature-engineering-part-3-traditional-methods-for-text-data-f6f7d70acd41\n",
        "\n",
        "\n",
        "* Tensorflow Estimator API: https://www.tensorflow.org/tutorials/recurrent\n",
        "\n",
        "* Using pre-trained word embeddings in a Keras model https://blog.keras.io/using-pre-trained-word-embeddings-in-a-keras-model.html\n",
        "\n",
        "* Text Classification with TensorFlow Estimators http://ruder.io/text-classification-tensorflow-estimators/\n",
        "\n",
        "* Scikit-Learns NLP documentation: http://scikit-learn.org/stable/tutorial/text_analytics/working_with_text_data.html\n",
        "\n",
        "* [Review on  Kaggle Toxic Comment Classification Challenge](https://medium.com/the-artificial-impostor/review-kaggle-toxic-comment-classification-challenge-part-1-934447339309)\n",
        "\n",
        "* Text Classification in Google Cloud Platform, using Cloud ML Engine:\n",
        "    * https://github.com/GoogleCloudPlatform/training-data-analyst/blob/master/courses/machine_learning/deepdive/09_sequence/text_classification.ipynb\n",
        "    * https://github.com/GoogleCloudPlatform/training-data-analyst/blob/master/courses/machine_learning/deepdive/09_sequence/text_classification_native.ipynb\n"
      ]
    }
  ]
}